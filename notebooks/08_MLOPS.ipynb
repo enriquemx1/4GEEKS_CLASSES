{
 "cells": [
  {
   "cell_type": "markdown",
   "metadata": {},
   "source": [
    "# LECCION 8: MLOPS (machine learning operations)"
   ]
  },
  {
   "cell_type": "markdown",
   "metadata": {},
   "source": []
  },
  {
   "cell_type": "markdown",
   "metadata": {},
   "source": [
    "#el shell de un sistema operativo reconoce dos entidades el archivo y el directorio ya sea visibles u ocultos\n",
    "\n",
    "#los comandos en shell suelen tener el componente del nombre del comando y las opciones  que se denotan con un guion simple \"-a, -m, -p\" o un guion doble \n",
    "\n",
    "#pwd= imprime el directorio donde estamos parados respecto a la raiz (la raiz es donde ya no puedo subir mas)\n",
    "\n",
    "#cd = cambiar de directorio\n",
    "\n",
    "#echo \"lo que quiero escribir\"= para imprimir en el shell \n",
    "\n",
    "#echo \"texto que quiero\" > archivo.txt = empujo texto a un archivo\n",
    "\n",
    "#echo \"texto que quiero\" >> archivo.txt = empujo texto a un archivo sin sobreescribir, lo voy haciendo stack\n",
    "\n",
    "#cat nombre_del_archivo.txt = para leer el contenido de un archivo \n",
    "\n",
    "#tail -5 nombre_del_archivo = me da las ultimas 5 lineas del archivo\n",
    "\n",
    "#head -5 nombre_del_archivo = me da las primeras 5 lineas del archivo \n",
    "\n",
    "#touch = creamos un archivo \n",
    "\n",
    "#mkdir = crea un directorio nuevo \n",
    "\n",
    "#mkdir -p = crea un directorio y un subdirectorio : mkdir -p tmp/files\n",
    "\n",
    "#python -m pip freeze = lista los paquetes instalados\n",
    "\n",
    "#con > nombre_del_archivo = puedo volcar el resultado de un comando que sea una salida de texto a un archivo, ejemplo python -m pip freeze > my_file.txt\n",
    "\n",
    "#mkdir -p nombre de la carpeta/nombre del archivo= carpeta anidada\n",
    "\n",
    "#mkdir -p nombre de la carpeta {sub1, sub2, sub..n}= varias carpetas anidadas\n",
    "\n",
    "#tree = nos permite ver todo el directorio y archivos que tenemos\n",
    "\n",
    "#cp my_modules.txt my_directory/my_modules.txt= mover file my modules al directory my directory\n",
    "\n",
    "#cp hace una copia del archivo y comando mv lo mueve a la nueva dirección\n",
    "\n",
    "#cp nos lleva a otro directiro, cada . significa donde estoy y .. significa un nivel arriba \n",
    "\n",
    "#ln -s = crea un enlace simbolico o alias \"ln -s /my_docs{word,/my_file.txt that_text\" cada que \n",
    "llame that_text llamaré a my_file.txt\n",
    "\n",
    "#rm = borrar directorios y archivos, en caso de un directorio contenga mas directorios debemo sutilizar comandos reccursivos\n",
    "\n",
    "#-r = comandos recursivos \"rm -rf /my_docs/my_modules.txt\"\n",
    "\n",
    "#-f = forzar el borrado \"rm -rf /my_docs/my_modules.txt\"\n",
    "\n",
    "#grep = permite capturar en patrones de texto en un archivo : grep \"ipy\" * : grep \"texto\" archivo.txt\n",
    "\n",
    "#find = permite encontrar archivos y directorios: find -name README.md; find -type f -name *.txt\n",
    "\n",
    "#touch new_script.sh = la extension .sh es un script"
   ]
  }
 ],
 "metadata": {
  "kernelspec": {
   "display_name": ".venv",
   "language": "python",
   "name": "python3"
  },
  "language_info": {
   "codemirror_mode": {
    "name": "ipython",
    "version": 3
   },
   "file_extension": ".py",
   "mimetype": "text/x-python",
   "name": "python",
   "nbconvert_exporter": "python",
   "pygments_lexer": "ipython3",
   "version": "3.12.1"
  }
 },
 "nbformat": 4,
 "nbformat_minor": 2
}
