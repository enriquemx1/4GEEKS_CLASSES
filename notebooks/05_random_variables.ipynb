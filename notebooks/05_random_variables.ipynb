{
 "cells": [
  {
   "cell_type": "code",
   "execution_count": 3,
   "metadata": {},
   "outputs": [],
   "source": [
    "import numpy as np\n",
    "import matplotlib.pyplot as plt\n",
    "import pandas as pd\n",
    "import random"
   ]
  },
  {
   "cell_type": "code",
   "execution_count": 7,
   "metadata": {},
   "outputs": [
    {
     "name": "stdout",
     "output_type": "stream",
     "text": [
      "giradas\n",
      "rojo     493\n",
      "negro    460\n",
      "verde     47\n",
      "Name: count, dtype: int64\n",
      "gana casino: 507\n",
      "pierde casino: -493\n",
      "ganacia final: 14\n"
     ]
    }
   ],
   "source": [
    "#hay una ruleta en un casino, la ruleta tiene 18 espacios rojos y 18 espacios negros y 2 verdeds\n",
    "#al girar la ruleta si sale rojo el apostador gana 1 dolar, si sale negro pierde\n",
    "#desde la vista del casino si sale rojo el casino pierde un dolar, si sale negro el casino gana 1 dolar, si sale verde el casino gana un dolar\n",
    "ruleta = [\"rojo\"]*18 + [\"negro\"]*18 + [\"verde\"]*2\n",
    "giradas = [random.choice(ruleta) for _ in range(1000)]\n",
    "#resultados\n",
    "df= pd.DataFrame({\"giradas\":giradas})\n",
    "resultados = df[\"giradas\"].value_counts()\n",
    "gana_casino = (resultados.get(\"verde\",0) + resultados.get(\"negro\",0))\n",
    "pierde_casino = resultados.get(\"rojo\",0)*-1\n",
    "ganacia_final = gana_casino + pierde_casino\n",
    "print(resultados)\n",
    "print(f\"gana casino:\", gana_casino)\n",
    "print(f\"pierde casino:\", pierde_casino)\n",
    "print(f\"ganacia final:\", ganacia_final)"
   ]
  },
  {
   "cell_type": "code",
   "execution_count": 17,
   "metadata": {},
   "outputs": [
    {
     "data": {
      "text/plain": [
       "10"
      ]
     },
     "execution_count": 17,
     "metadata": {},
     "output_type": "execute_result"
    }
   ],
   "source": [
    "#funcion para giro de ruleta\n",
    "def roulete_spin(spins=1000, roulete=ruleta):\n",
    "    earnings = 0\n",
    "    for _ in range(spins):\n",
    "        result = random.choice(roulete)\n",
    "        if result == \"rojo\":\n",
    "            earnings -= 1\n",
    "        else:\n",
    "            earnings += 1\n",
    "    return earnings\n",
    "roulete_spin()"
   ]
  },
  {
   "cell_type": "code",
   "execution_count": 31,
   "metadata": {},
   "outputs": [],
   "source": [
    "# sampling model\n",
    "samplings = []\n",
    "for _ in range(10000):\n",
    "    samplings.append(roulete_spin()) #lista donde se almacenan los resultados \n"
   ]
  },
  {
   "cell_type": "code",
   "execution_count": 32,
   "metadata": {},
   "outputs": [
    {
     "data": {
      "image/png": "[encoded data removed]",
      "text/plain": [
       "<Figure size 640x480 with 1 Axes>"
      ]
     },
     "metadata": {},
     "output_type": "display_data"
    }
   ],
   "source": [
    "#plot histograma de frecuencias\n",
    "plt.hist(samplings)\n",
    "plt.grid(True)\n",
    "plt.show()"
   ]
  },
  {
   "cell_type": "code",
   "execution_count": 34,
   "metadata": {},
   "outputs": [
    {
     "data": {
      "text/plain": [
       "np.float64(31.583759128028813)"
      ]
     },
     "execution_count": 34,
     "metadata": {},
     "output_type": "execute_result"
    }
   ],
   "source": [
    "#desviCION ESTANDAR\n",
    "std=np.std(samplings)\n",
    "std"
   ]
  },
  {
   "cell_type": "code",
   "execution_count": 36,
   "metadata": {},
   "outputs": [
    {
     "data": {
      "text/plain": [
       "1000000"
      ]
     },
     "execution_count": 36,
     "metadata": {},
     "output_type": "execute_result"
    }
   ],
   "source": [
    "n = len(samplings) #TAMAÑO DE LA MUESTRA\n",
    "n"
   ]
  },
  {
   "cell_type": "code",
   "execution_count": 37,
   "metadata": {},
   "outputs": [
    {
     "data": {
      "text/plain": [
       "np.float64(0.03158375912802881)"
      ]
     },
     "execution_count": 37,
     "metadata": {},
     "output_type": "execute_result"
    }
   ],
   "source": [
    "#ERROR ESTANDAR\n",
    "std/np.sqrt(n)"
   ]
  },
  {
   "cell_type": "markdown",
   "metadata": {},
   "source": []
  }
 ],
 "metadata": {
  "kernelspec": {
   "display_name": ".venv",
   "language": "python",
   "name": "python3"
  },
  "language_info": {
   "codemirror_mode": {
    "name": "ipython",
    "version": 3
   },
   "file_extension": ".py",
   "mimetype": "text/x-python",
   "name": "python",
   "nbconvert_exporter": "python",
   "pygments_lexer": "ipython3",
   "version": "3.12.1"
  }
 },
 "nbformat": 4,
 "nbformat_minor": 2
}
