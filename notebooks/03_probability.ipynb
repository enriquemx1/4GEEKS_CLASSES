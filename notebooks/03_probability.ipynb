{
 "cells": [
  {
   "cell_type": "markdown",
   "metadata": {},
   "source": [
    "# Probability\n",
    "## Introduction to Probabilities\n",
    "In 1814, Pierre-Simon Laplace wrote:  \n",
    "> Probability theory is nothing but common sense reduced to calculation. \n",
    "... [Probability] is thus simply a fraction whose numerator is the \n",
    "number of favorable cases and whose denominator is the number of all \n",
    "the cases possible ... when nothing leads us to expect that any one of \n",
    "these cases should occur more than any other.\n",
    "Laplace nailed it. To untangle a probability problem, all you have to do \n",
    "is define exactly what the cases are, and careful count the favorable \n",
    "and total cases. Let's be clear on our vocabulary words:\n",
    "- **Trial**\n",
    "A single occurrence with an outcome that is uncertain until we observe it.  \n",
    "*For example, rolling a single die.*\n",
    "- **Outcome**\n",
    "A possible result of a trial; one particular state of the world. What \n",
    "Laplace calls a **case.** *For example:* `4`.\n",
    "- **Sample Space**\n",
    "The set of all possible outcomes for the trial.   \n",
    "*For example,* `{1, 2, 3, 4, 5, 6}`.\n",
    "- **Event**\n",
    "A subset of the sample space, a set of outcomes that together have some \n",
    "property we are interested in.  \n",
    "*For example, the event \"even die roll\" is the set of outcomes* \n",
    "`{2, 4, 6}`.\n",
    "- **Probability**\n",
    "As Laplace said, the probability of an event with respect to a sample \n",
    "space is the \"number of favorable cases\" (outcomes from the sample space \n",
    "that are in the event) divided by the \"number of all the cases\" in the \n",
    "sample space (assuming \"nothing leads us to expect that any one of these \n",
    "cases should occur more than any other\"). Since this is a proper \n",
    "fraction, probability will always be a number between 0 (representing an \n",
    "impossible event) and 1 (representing a certain event).\n",
    "*For example, the probability of an even die roll is 3/6 = 1/2.*"
   ]
  },
  {
   "cell_type": "code",
   "execution_count": 1,
   "metadata": {},
   "outputs": [],
   "source": [
    "import random #generador de números aleatorios\n",
    "import numpy as np\n",
    "import pandas as pd\n",
    "import matplotlib.pyplot as plt"
   ]
  },
  {
   "cell_type": "code",
   "execution_count": 8,
   "metadata": {},
   "outputs": [
    {
     "name": "stdout",
     "output_type": "stream",
     "text": [
      "1\n"
     ]
    }
   ],
   "source": [
    "#1.generación de lanzamiento de una moneda, sello = 0, cara = 1\n",
    "toss = random.randint(0,1) \n",
    "print(toss)"
   ]
  },
  {
   "cell_type": "code",
   "execution_count": 11,
   "metadata": {},
   "outputs": [
    {
     "name": "stdout",
     "output_type": "stream",
     "text": [
      "[0, 1, 0, 1, 0, 1, 0, 1, 1, 1]\n"
     ]
    }
   ],
   "source": [
    "# generación de lanzamiento de monedas, con una estructura de control (for) las secuencias de control son for, if, while.\n",
    "toss_results = []\n",
    "for i in range(10):\n",
    "    result = random.randint(0,1)\n",
    "    toss_results.append(result)\n",
    "print(toss_results)"
   ]
  },
  {
   "cell_type": "code",
   "execution_count": 15,
   "metadata": {},
   "outputs": [
    {
     "name": "stdout",
     "output_type": "stream",
     "text": [
      "[1, 0, 1, 0, 1, 1, 0, 1, 1, 1]\n"
     ]
    }
   ],
   "source": [
    "# generación de lanzamiento de monedas controlado para ser reproducible. \n",
    "random.seed(2024)\n",
    "toss_results = []\n",
    "for i in range(10):\n",
    "    result = random.randint(0,1)\n",
    "    toss_results.append(result)\n",
    "print(toss_results)"
   ]
  },
  {
   "cell_type": "code",
   "execution_count": 31,
   "metadata": {},
   "outputs": [
    {
     "data": {
      "text/plain": [
       "0.498807"
      ]
     },
     "execution_count": 31,
     "metadata": {},
     "output_type": "execute_result"
    }
   ],
   "source": [
    "# calcular la probabilidad de que salga cara en 10 lanzamientos de moneda\n",
    "toss_results = []\n",
    "for i in range(1000000):\n",
    "    result = random.randint(0,1)\n",
    "    toss_results.append(result)\n",
    "#print(toss_results)\n",
    "sum(toss_results)/len(toss_results)"
   ]
  },
  {
   "cell_type": "code",
   "execution_count": 33,
   "metadata": {},
   "outputs": [],
   "source": [
    "from fractions import Fraction"
   ]
  },
  {
   "cell_type": "code",
   "execution_count": 34,
   "metadata": {},
   "outputs": [
    {
     "data": {
      "text/plain": [
       "Fraction(1, 3)"
      ]
     },
     "execution_count": 34,
     "metadata": {},
     "output_type": "execute_result"
    }
   ],
   "source": [
    "Fraction(1,3) #esta es la representación de una fracción en python "
   ]
  },
  {
   "cell_type": "code",
   "execution_count": 35,
   "metadata": {},
   "outputs": [
    {
     "data": {
      "text/plain": [
       "{2, 4, 6}"
      ]
     },
     "execution_count": 35,
     "metadata": {},
     "output_type": "execute_result"
    }
   ],
   "source": [
    "#2 calcular probabilidad de sacar par en un lanzamiento de dados\n",
    "even = {2,4,6}\n",
    "points = {1,2,3,4,5,6} #asumimos que el dado está perfectamente balanceado y que tiene 6 caras\n",
    "set.intersection(even,points)\n"
   ]
  },
  {
   "cell_type": "code",
   "execution_count": 36,
   "metadata": {},
   "outputs": [],
   "source": [
    "def Pr(event,space): \n",
    "    return Fraction(len(set.intersection(event,space)),len(space))"
   ]
  },
  {
   "cell_type": "code",
   "execution_count": 38,
   "metadata": {},
   "outputs": [
    {
     "data": {
      "text/plain": [
       "Fraction(1, 2)"
      ]
     },
     "execution_count": 38,
     "metadata": {},
     "output_type": "execute_result"
    }
   ],
   "source": [
    "Pr(even,points) "
   ]
  },
  {
   "cell_type": "code",
   "execution_count": 39,
   "metadata": {},
   "outputs": [
    {
     "data": {
      "text/plain": [
       "Fraction(1, 3)"
      ]
     },
     "execution_count": 39,
     "metadata": {},
     "output_type": "execute_result"
    }
   ],
   "source": [
    "# calcular la probabilidad de obtener 5 o 6 en un lanzamiento de dados\n",
    "success = {5,6}\n",
    "points = {1,2,3,4,5,6}\n",
    "Pr(success,points) "
   ]
  },
  {
   "cell_type": "markdown",
   "metadata": {},
   "source": [
    "This refers to a discrete sample space, so the probability is related to a discrete event"
   ]
  },
  {
   "cell_type": "code",
   "execution_count": 42,
   "metadata": {},
   "outputs": [
    {
     "data": {
      "text/plain": [
       "array([0])"
      ]
     },
     "execution_count": 42,
     "metadata": {},
     "output_type": "execute_result"
    }
   ],
   "source": [
    "# box1 = [1,0,0,0]  la probabilidad de éxito es de 1/4= 0.25\n",
    "# box2 = [1,1,0,0,0] la probabilidad de éxito es de 2/5= 0.4 \n",
    "box1 = np.array([1,0,0,0]) #este es un vector ([]) \n",
    "np.random.choice(box1,1) #simula el evento de sacar una piedra ,1 es un evento"
   ]
  },
  {
   "cell_type": "code",
   "execution_count": 44,
   "metadata": {},
   "outputs": [
    {
     "data": {
      "text/plain": [
       "np.float64(0.250174)"
      ]
     },
     "execution_count": 44,
     "metadata": {},
     "output_type": "execute_result"
    }
   ],
   "source": [
    "trial = np.random.choice(box1,1000000)\n",
    "trial.mean()"
   ]
  },
  {
   "cell_type": "code",
   "execution_count": 45,
   "metadata": {},
   "outputs": [
    {
     "data": {
      "text/plain": [
       "np.float64(0.40095)"
      ]
     },
     "execution_count": 45,
     "metadata": {},
     "output_type": "execute_result"
    }
   ],
   "source": [
    "box2 = np.array([1,0,1,0,0])\n",
    "trial = np.random.choice(box2,100000)\n",
    "trial.mean() #aquí funciona mean porque solo hay dos resultados 0 y 1 y además el resultado exitoso es 1. \n"
   ]
  },
  {
   "cell_type": "code",
   "execution_count": 47,
   "metadata": {},
   "outputs": [
    {
     "data": {
      "text/plain": [
       "0.40095"
      ]
     },
     "execution_count": 47,
     "metadata": {},
     "output_type": "execute_result"
    }
   ],
   "source": [
    "#cuando son más de dos resultados se usa\n",
    "success = np.isin(trial,[1])\n",
    "probability = len(trial[success])/len(trial)\n",
    "probability"
   ]
  },
  {
   "cell_type": "code",
   "execution_count": 59,
   "metadata": {},
   "outputs": [
    {
     "data": {
      "text/plain": [
       "0.2"
      ]
     },
     "execution_count": 59,
     "metadata": {},
     "output_type": "execute_result"
    }
   ],
   "source": [
    "np.random.seed(2024)\n",
    "yankenpo = np.array([1,2,3])\n",
    "trial = np.random.choice(yankenpo,10)\n",
    "success = np.isin(trial,[2]) #isin nos retorna un vector de booleanos \n",
    "probability = len(trial[success])/len(trial)\n",
    "probability"
   ]
  },
  {
   "cell_type": "code",
   "execution_count": 53,
   "metadata": {},
   "outputs": [
    {
     "data": {
      "text/plain": [
       "array([ True, False, False,  True, False, False, False, False, False,\n",
       "        True])"
      ]
     },
     "execution_count": 53,
     "metadata": {},
     "output_type": "execute_result"
    }
   ],
   "source": [
    "yankenpo\n",
    "trial\n",
    "success"
   ]
  },
  {
   "cell_type": "code",
   "execution_count": 54,
   "metadata": {},
   "outputs": [
    {
     "data": {
      "text/plain": [
       "array([2, 3, 1, 2, 3, 3, 3, 3, 3, 2])"
      ]
     },
     "execution_count": 54,
     "metadata": {},
     "output_type": "execute_result"
    }
   ],
   "source": [
    "trial"
   ]
  },
  {
   "cell_type": "code",
   "execution_count": 55,
   "metadata": {},
   "outputs": [
    {
     "data": {
      "text/plain": [
       "array([2, 2, 2])"
      ]
     },
     "execution_count": 55,
     "metadata": {},
     "output_type": "execute_result"
    }
   ],
   "source": [
    "trial[success]"
   ]
  },
  {
   "cell_type": "code",
   "execution_count": 60,
   "metadata": {},
   "outputs": [
    {
     "data": {
      "text/plain": [
       "array([21])"
      ]
     },
     "execution_count": 60,
     "metadata": {},
     "output_type": "execute_result"
    }
   ],
   "source": [
    "results = np.array([14,22,21,15,18,23,19])\n",
    "success = np.isin(results,[21])\n",
    "results[success]"
   ]
  },
  {
   "cell_type": "code",
   "execution_count": 77,
   "metadata": {},
   "outputs": [
    {
     "data": {
      "text/plain": [
       "1.0"
      ]
     },
     "execution_count": 77,
     "metadata": {},
     "output_type": "execute_result"
    }
   ],
   "source": [
    "#3 el siguiente problema muestra la probabilidad condicional \n",
    "#cuál es la probabilidad de sacar un As en una segunda extracción si en la primera extracción ya saqué un As\n",
    "#cuántos Ases hay en una baraja: 4 \n",
    "#cuántos naipes hay en una bajara: 52\n",
    "#cuál es la probabilidad de sacar en la primera extracción un As: 4/52= 1/13\n",
    "#si ya saqué un As de la baraja cuántos naipes quedan? 51 y 3 Ases\n",
    "#en una segunda extracción cuál es la probabilidad de sacar un As? Pr(sacar As en segunda extracción|sacar As en la primera extracción)\n",
    "#por lo tanto esto quiere decir que esta probabilidad está condicionada al evento se haber sacado un As en la primera extracción\n",
    "#la fórmula para calcularlo sería Pr=3/51\n",
    "#Pr(A and B)=Pr(A)*Pr(B|A)\n",
    "#Si A y B son Independientes entonces Pr(A|B)=Pr(A)\n",
    "#Pr(A and B and C)=Pr(A)*Pr(B|A)*Pr(C|A and B) *Regla de la cadena\n",
    "#Pr(A or B)=Pr(A)+Pr(B)-Pr(A and B)\n",
    "#en un avión hay 3 bombas, cada bomba tiene 0.4 probabilidades de explotar, entonces cuál es la probabilidad de que la segunda bomba explote?\n",
    "#cuál es la probabilidad de que las 3 bombas exploten a la vez? 0.4*0.4*0.4\n",
    "#cuál es la probabilidad de que en una sala con 10 personas dos cumplan años el mismo día. y en una sala con 20 personas? y en una sala con 30 personas? y en una sala con 50 personas? \n",
    "def same_birthday(n):\n",
    "    days=np.arange(1,366)\n",
    "    bday = np.random.choice(days,n)\n",
    "    return np.any(np.bincount(bday)>1)\n",
    "same_birthday(10)\n",
    "counter = 0\n",
    "for i in range(10000):\n",
    "    if same_birthday(360):\n",
    "        counter +=1\n",
    "counter/10000\n"
   ]
  }
 ],
 "metadata": {
  "kernelspec": {
   "display_name": ".venv",
   "language": "python",
   "name": "python3"
  },
  "language_info": {
   "codemirror_mode": {
    "name": "ipython",
    "version": 3
   },
   "file_extension": ".py",
   "mimetype": "text/x-python",
   "name": "python",
   "nbconvert_exporter": "python",
   "pygments_lexer": "ipython3",
   "version": "3.12.1"
  }
 },
 "nbformat": 4,
 "nbformat_minor": 2
}
